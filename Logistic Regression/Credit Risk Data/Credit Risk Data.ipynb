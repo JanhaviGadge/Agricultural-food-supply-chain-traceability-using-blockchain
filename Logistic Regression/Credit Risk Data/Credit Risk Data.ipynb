{
 "cells": [
  {
   "cell_type": "markdown",
   "id": "358987be",
   "metadata": {},
   "source": [
    "#  Loan status prediction using logistic regression "
   ]
  },
  {
   "cell_type": "markdown",
   "id": "c0699baf",
   "metadata": {},
   "source": [
    "Credit Risk data for loan_status prediction logistic regression is a widely used and interpretable method for loan status prediction in credit risk analysis, providing valuable insights into the factors influencing loan defaults and helping financial institutions make informed lending decisions."
   ]
  },
  {
   "cell_type": "code",
   "execution_count": 1,
   "id": "fcd425d7",
   "metadata": {},
   "outputs": [],
   "source": [
    "import pandas as pd\n",
    "import numpy as np"
   ]
  },
  {
   "cell_type": "code",
   "execution_count": 2,
   "id": "9ddf875c",
   "metadata": {},
   "outputs": [],
   "source": [
    "cr=pd.read_csv(r\"CreditRisk.csv\")"
   ]
  },
  {
   "cell_type": "code",
   "execution_count": 3,
   "id": "202679eb",
   "metadata": {},
   "outputs": [
    {
     "data": {
      "text/plain": [
       "(981, 13)"
      ]
     },
     "execution_count": 3,
     "metadata": {},
     "output_type": "execute_result"
    }
   ],
   "source": [
    "cr.shape"
   ]
  },
  {
   "cell_type": "code",
   "execution_count": 4,
   "id": "06fe908f",
   "metadata": {},
   "outputs": [
    {
     "data": {
      "text/html": [
       "<div>\n",
       "<style scoped>\n",
       "    .dataframe tbody tr th:only-of-type {\n",
       "        vertical-align: middle;\n",
       "    }\n",
       "\n",
       "    .dataframe tbody tr th {\n",
       "        vertical-align: top;\n",
       "    }\n",
       "\n",
       "    .dataframe thead th {\n",
       "        text-align: right;\n",
       "    }\n",
       "</style>\n",
       "<table border=\"1\" class=\"dataframe\">\n",
       "  <thead>\n",
       "    <tr style=\"text-align: right;\">\n",
       "      <th></th>\n",
       "      <th>Loan_ID</th>\n",
       "      <th>Gender</th>\n",
       "      <th>Married</th>\n",
       "      <th>Dependents</th>\n",
       "      <th>Education</th>\n",
       "      <th>Self_Employed</th>\n",
       "      <th>ApplicantIncome</th>\n",
       "      <th>CoapplicantIncome</th>\n",
       "      <th>LoanAmount</th>\n",
       "      <th>Loan_Amount_Term</th>\n",
       "      <th>Credit_History</th>\n",
       "      <th>Property_Area</th>\n",
       "      <th>Loan_Status</th>\n",
       "    </tr>\n",
       "  </thead>\n",
       "  <tbody>\n",
       "    <tr>\n",
       "      <th>0</th>\n",
       "      <td>LP001002</td>\n",
       "      <td>Male</td>\n",
       "      <td>No</td>\n",
       "      <td>0.0</td>\n",
       "      <td>Graduate</td>\n",
       "      <td>No</td>\n",
       "      <td>5849</td>\n",
       "      <td>0.0</td>\n",
       "      <td>NaN</td>\n",
       "      <td>360.0</td>\n",
       "      <td>1.0</td>\n",
       "      <td>Urban</td>\n",
       "      <td>Y</td>\n",
       "    </tr>\n",
       "    <tr>\n",
       "      <th>1</th>\n",
       "      <td>LP001003</td>\n",
       "      <td>Male</td>\n",
       "      <td>Yes</td>\n",
       "      <td>1.0</td>\n",
       "      <td>Graduate</td>\n",
       "      <td>No</td>\n",
       "      <td>4583</td>\n",
       "      <td>1508.0</td>\n",
       "      <td>128.0</td>\n",
       "      <td>360.0</td>\n",
       "      <td>1.0</td>\n",
       "      <td>Rural</td>\n",
       "      <td>N</td>\n",
       "    </tr>\n",
       "    <tr>\n",
       "      <th>2</th>\n",
       "      <td>LP001005</td>\n",
       "      <td>Male</td>\n",
       "      <td>Yes</td>\n",
       "      <td>0.0</td>\n",
       "      <td>Graduate</td>\n",
       "      <td>Yes</td>\n",
       "      <td>3000</td>\n",
       "      <td>0.0</td>\n",
       "      <td>66.0</td>\n",
       "      <td>360.0</td>\n",
       "      <td>1.0</td>\n",
       "      <td>Urban</td>\n",
       "      <td>Y</td>\n",
       "    </tr>\n",
       "    <tr>\n",
       "      <th>3</th>\n",
       "      <td>LP001006</td>\n",
       "      <td>Male</td>\n",
       "      <td>Yes</td>\n",
       "      <td>0.0</td>\n",
       "      <td>Not Graduate</td>\n",
       "      <td>No</td>\n",
       "      <td>2583</td>\n",
       "      <td>2358.0</td>\n",
       "      <td>120.0</td>\n",
       "      <td>360.0</td>\n",
       "      <td>1.0</td>\n",
       "      <td>Urban</td>\n",
       "      <td>Y</td>\n",
       "    </tr>\n",
       "    <tr>\n",
       "      <th>4</th>\n",
       "      <td>LP001008</td>\n",
       "      <td>Male</td>\n",
       "      <td>No</td>\n",
       "      <td>0.0</td>\n",
       "      <td>Graduate</td>\n",
       "      <td>No</td>\n",
       "      <td>6000</td>\n",
       "      <td>0.0</td>\n",
       "      <td>141.0</td>\n",
       "      <td>360.0</td>\n",
       "      <td>1.0</td>\n",
       "      <td>Urban</td>\n",
       "      <td>Y</td>\n",
       "    </tr>\n",
       "    <tr>\n",
       "      <th>5</th>\n",
       "      <td>LP001011</td>\n",
       "      <td>Male</td>\n",
       "      <td>Yes</td>\n",
       "      <td>2.0</td>\n",
       "      <td>Graduate</td>\n",
       "      <td>Yes</td>\n",
       "      <td>5417</td>\n",
       "      <td>4196.0</td>\n",
       "      <td>267.0</td>\n",
       "      <td>360.0</td>\n",
       "      <td>1.0</td>\n",
       "      <td>Urban</td>\n",
       "      <td>Y</td>\n",
       "    </tr>\n",
       "    <tr>\n",
       "      <th>6</th>\n",
       "      <td>LP001013</td>\n",
       "      <td>Male</td>\n",
       "      <td>Yes</td>\n",
       "      <td>0.0</td>\n",
       "      <td>Not Graduate</td>\n",
       "      <td>No</td>\n",
       "      <td>2333</td>\n",
       "      <td>1516.0</td>\n",
       "      <td>95.0</td>\n",
       "      <td>360.0</td>\n",
       "      <td>1.0</td>\n",
       "      <td>Urban</td>\n",
       "      <td>Y</td>\n",
       "    </tr>\n",
       "    <tr>\n",
       "      <th>7</th>\n",
       "      <td>LP001014</td>\n",
       "      <td>Male</td>\n",
       "      <td>Yes</td>\n",
       "      <td>4.0</td>\n",
       "      <td>Graduate</td>\n",
       "      <td>No</td>\n",
       "      <td>3036</td>\n",
       "      <td>2504.0</td>\n",
       "      <td>158.0</td>\n",
       "      <td>360.0</td>\n",
       "      <td>0.0</td>\n",
       "      <td>Semiurban</td>\n",
       "      <td>N</td>\n",
       "    </tr>\n",
       "    <tr>\n",
       "      <th>8</th>\n",
       "      <td>LP001018</td>\n",
       "      <td>Male</td>\n",
       "      <td>Yes</td>\n",
       "      <td>2.0</td>\n",
       "      <td>Graduate</td>\n",
       "      <td>No</td>\n",
       "      <td>4006</td>\n",
       "      <td>1526.0</td>\n",
       "      <td>168.0</td>\n",
       "      <td>360.0</td>\n",
       "      <td>1.0</td>\n",
       "      <td>Urban</td>\n",
       "      <td>Y</td>\n",
       "    </tr>\n",
       "    <tr>\n",
       "      <th>9</th>\n",
       "      <td>LP001020</td>\n",
       "      <td>Male</td>\n",
       "      <td>Yes</td>\n",
       "      <td>1.0</td>\n",
       "      <td>Graduate</td>\n",
       "      <td>No</td>\n",
       "      <td>12841</td>\n",
       "      <td>10968.0</td>\n",
       "      <td>349.0</td>\n",
       "      <td>360.0</td>\n",
       "      <td>1.0</td>\n",
       "      <td>Semiurban</td>\n",
       "      <td>N</td>\n",
       "    </tr>\n",
       "  </tbody>\n",
       "</table>\n",
       "</div>"
      ],
      "text/plain": [
       "    Loan_ID Gender Married  Dependents     Education Self_Employed  \\\n",
       "0  LP001002   Male      No         0.0      Graduate            No   \n",
       "1  LP001003   Male     Yes         1.0      Graduate            No   \n",
       "2  LP001005   Male     Yes         0.0      Graduate           Yes   \n",
       "3  LP001006   Male     Yes         0.0  Not Graduate            No   \n",
       "4  LP001008   Male      No         0.0      Graduate            No   \n",
       "5  LP001011   Male     Yes         2.0      Graduate           Yes   \n",
       "6  LP001013   Male     Yes         0.0  Not Graduate            No   \n",
       "7  LP001014   Male     Yes         4.0      Graduate            No   \n",
       "8  LP001018   Male     Yes         2.0      Graduate            No   \n",
       "9  LP001020   Male     Yes         1.0      Graduate            No   \n",
       "\n",
       "   ApplicantIncome  CoapplicantIncome  LoanAmount  Loan_Amount_Term  \\\n",
       "0             5849                0.0         NaN             360.0   \n",
       "1             4583             1508.0       128.0             360.0   \n",
       "2             3000                0.0        66.0             360.0   \n",
       "3             2583             2358.0       120.0             360.0   \n",
       "4             6000                0.0       141.0             360.0   \n",
       "5             5417             4196.0       267.0             360.0   \n",
       "6             2333             1516.0        95.0             360.0   \n",
       "7             3036             2504.0       158.0             360.0   \n",
       "8             4006             1526.0       168.0             360.0   \n",
       "9            12841            10968.0       349.0             360.0   \n",
       "\n",
       "   Credit_History Property_Area Loan_Status  \n",
       "0             1.0         Urban           Y  \n",
       "1             1.0         Rural           N  \n",
       "2             1.0         Urban           Y  \n",
       "3             1.0         Urban           Y  \n",
       "4             1.0         Urban           Y  \n",
       "5             1.0         Urban           Y  \n",
       "6             1.0         Urban           Y  \n",
       "7             0.0     Semiurban           N  \n",
       "8             1.0         Urban           Y  \n",
       "9             1.0     Semiurban           N  "
      ]
     },
     "execution_count": 4,
     "metadata": {},
     "output_type": "execute_result"
    }
   ],
   "source": [
    "cr.head(10)"
   ]
  },
  {
   "cell_type": "code",
   "execution_count": 5,
   "id": "335ee208",
   "metadata": {},
   "outputs": [
    {
     "name": "stdout",
     "output_type": "stream",
     "text": [
      "<class 'pandas.core.frame.DataFrame'>\n",
      "RangeIndex: 981 entries, 0 to 980\n",
      "Data columns (total 13 columns):\n",
      " #   Column             Non-Null Count  Dtype  \n",
      "---  ------             --------------  -----  \n",
      " 0   Loan_ID            981 non-null    object \n",
      " 1   Gender             957 non-null    object \n",
      " 2   Married            978 non-null    object \n",
      " 3   Dependents         956 non-null    float64\n",
      " 4   Education          981 non-null    object \n",
      " 5   Self_Employed      926 non-null    object \n",
      " 6   ApplicantIncome    981 non-null    int64  \n",
      " 7   CoapplicantIncome  981 non-null    float64\n",
      " 8   LoanAmount         954 non-null    float64\n",
      " 9   Loan_Amount_Term   961 non-null    float64\n",
      " 10  Credit_History     902 non-null    float64\n",
      " 11  Property_Area      981 non-null    object \n",
      " 12  Loan_Status        981 non-null    object \n",
      "dtypes: float64(5), int64(1), object(7)\n",
      "memory usage: 99.8+ KB\n"
     ]
    }
   ],
   "source": [
    "cr.info()"
   ]
  },
  {
   "cell_type": "code",
   "execution_count": 6,
   "id": "c244f6f8",
   "metadata": {},
   "outputs": [
    {
     "data": {
      "text/plain": [
       "Loan_ID               0\n",
       "Gender               24\n",
       "Married               3\n",
       "Dependents           25\n",
       "Education             0\n",
       "Self_Employed        55\n",
       "ApplicantIncome       0\n",
       "CoapplicantIncome     0\n",
       "LoanAmount           27\n",
       "Loan_Amount_Term     20\n",
       "Credit_History       79\n",
       "Property_Area         0\n",
       "Loan_Status           0\n",
       "dtype: int64"
      ]
     },
     "execution_count": 6,
     "metadata": {},
     "output_type": "execute_result"
    }
   ],
   "source": [
    "cr.isnull().sum()"
   ]
  },
  {
   "cell_type": "code",
   "execution_count": 7,
   "id": "85a1d768",
   "metadata": {},
   "outputs": [
    {
     "data": {
      "text/plain": [
       "Married\n",
       "Yes    631\n",
       "No     347\n",
       "Name: count, dtype: int64"
      ]
     },
     "execution_count": 7,
     "metadata": {},
     "output_type": "execute_result"
    }
   ],
   "source": [
    "cr.Married.value_counts()"
   ]
  },
  {
   "cell_type": "code",
   "execution_count": 8,
   "id": "a8832ee8",
   "metadata": {},
   "outputs": [],
   "source": [
    "cr.Married = cr.Married.fillna('Yes')\n",
    "cr.Gender = cr.Gender.fillna('Male')\n",
    "cr.Self_Employed = cr.Self_Employed.fillna('No')\n",
    "cr.Credit_History = cr.Credit_History.fillna(0)\n",
    "cr.LoanAmount=cr.LoanAmount.fillna(cr.LoanAmount.mean())\n",
    "cr.Dependents=cr.Dependents.fillna(0)\n",
    "cr.Loan_Amount_Term=cr.Loan_Amount_Term.fillna(cr.Loan_Amount_Term.mean())"
   ]
  },
  {
   "cell_type": "code",
   "execution_count": 9,
   "id": "0722af84",
   "metadata": {},
   "outputs": [],
   "source": [
    "cr=cr.drop([\"Loan_ID\"], axis=1)"
   ]
  },
  {
   "cell_type": "code",
   "execution_count": 10,
   "id": "ee684a53",
   "metadata": {},
   "outputs": [
    {
     "data": {
      "text/plain": [
       "Gender               0\n",
       "Married              0\n",
       "Dependents           0\n",
       "Education            0\n",
       "Self_Employed        0\n",
       "ApplicantIncome      0\n",
       "CoapplicantIncome    0\n",
       "LoanAmount           0\n",
       "Loan_Amount_Term     0\n",
       "Credit_History       0\n",
       "Property_Area        0\n",
       "Loan_Status          0\n",
       "dtype: int64"
      ]
     },
     "execution_count": 10,
     "metadata": {},
     "output_type": "execute_result"
    }
   ],
   "source": [
    "cr.isnull().sum()"
   ]
  },
  {
   "cell_type": "code",
   "execution_count": 11,
   "id": "3db59e8b",
   "metadata": {},
   "outputs": [],
   "source": [
    "from sklearn.preprocessing import LabelEncoder"
   ]
  },
  {
   "cell_type": "code",
   "execution_count": 12,
   "id": "27b27332",
   "metadata": {},
   "outputs": [],
   "source": [
    "le=LabelEncoder()"
   ]
  },
  {
   "cell_type": "code",
   "execution_count": 13,
   "id": "fbb4c7ef",
   "metadata": {},
   "outputs": [],
   "source": [
    "cr[cr.select_dtypes(include=['object']).columns]=cr[cr.select_dtypes(include=['object']).columns].apply(le.fit_transform)"
   ]
  },
  {
   "cell_type": "code",
   "execution_count": 14,
   "id": "985402ea",
   "metadata": {},
   "outputs": [
    {
     "data": {
      "text/html": [
       "<div>\n",
       "<style scoped>\n",
       "    .dataframe tbody tr th:only-of-type {\n",
       "        vertical-align: middle;\n",
       "    }\n",
       "\n",
       "    .dataframe tbody tr th {\n",
       "        vertical-align: top;\n",
       "    }\n",
       "\n",
       "    .dataframe thead th {\n",
       "        text-align: right;\n",
       "    }\n",
       "</style>\n",
       "<table border=\"1\" class=\"dataframe\">\n",
       "  <thead>\n",
       "    <tr style=\"text-align: right;\">\n",
       "      <th></th>\n",
       "      <th>Gender</th>\n",
       "      <th>Married</th>\n",
       "      <th>Dependents</th>\n",
       "      <th>Education</th>\n",
       "      <th>Self_Employed</th>\n",
       "      <th>ApplicantIncome</th>\n",
       "      <th>CoapplicantIncome</th>\n",
       "      <th>LoanAmount</th>\n",
       "      <th>Loan_Amount_Term</th>\n",
       "      <th>Credit_History</th>\n",
       "      <th>Property_Area</th>\n",
       "      <th>Loan_Status</th>\n",
       "    </tr>\n",
       "  </thead>\n",
       "  <tbody>\n",
       "    <tr>\n",
       "      <th>0</th>\n",
       "      <td>1</td>\n",
       "      <td>0</td>\n",
       "      <td>0.0</td>\n",
       "      <td>0</td>\n",
       "      <td>0</td>\n",
       "      <td>5849</td>\n",
       "      <td>0.0</td>\n",
       "      <td>142.51153</td>\n",
       "      <td>360.0</td>\n",
       "      <td>1.0</td>\n",
       "      <td>2</td>\n",
       "      <td>1</td>\n",
       "    </tr>\n",
       "    <tr>\n",
       "      <th>1</th>\n",
       "      <td>1</td>\n",
       "      <td>1</td>\n",
       "      <td>1.0</td>\n",
       "      <td>0</td>\n",
       "      <td>0</td>\n",
       "      <td>4583</td>\n",
       "      <td>1508.0</td>\n",
       "      <td>128.00000</td>\n",
       "      <td>360.0</td>\n",
       "      <td>1.0</td>\n",
       "      <td>0</td>\n",
       "      <td>0</td>\n",
       "    </tr>\n",
       "    <tr>\n",
       "      <th>2</th>\n",
       "      <td>1</td>\n",
       "      <td>1</td>\n",
       "      <td>0.0</td>\n",
       "      <td>0</td>\n",
       "      <td>1</td>\n",
       "      <td>3000</td>\n",
       "      <td>0.0</td>\n",
       "      <td>66.00000</td>\n",
       "      <td>360.0</td>\n",
       "      <td>1.0</td>\n",
       "      <td>2</td>\n",
       "      <td>1</td>\n",
       "    </tr>\n",
       "    <tr>\n",
       "      <th>3</th>\n",
       "      <td>1</td>\n",
       "      <td>1</td>\n",
       "      <td>0.0</td>\n",
       "      <td>1</td>\n",
       "      <td>0</td>\n",
       "      <td>2583</td>\n",
       "      <td>2358.0</td>\n",
       "      <td>120.00000</td>\n",
       "      <td>360.0</td>\n",
       "      <td>1.0</td>\n",
       "      <td>2</td>\n",
       "      <td>1</td>\n",
       "    </tr>\n",
       "    <tr>\n",
       "      <th>4</th>\n",
       "      <td>1</td>\n",
       "      <td>0</td>\n",
       "      <td>0.0</td>\n",
       "      <td>0</td>\n",
       "      <td>0</td>\n",
       "      <td>6000</td>\n",
       "      <td>0.0</td>\n",
       "      <td>141.00000</td>\n",
       "      <td>360.0</td>\n",
       "      <td>1.0</td>\n",
       "      <td>2</td>\n",
       "      <td>1</td>\n",
       "    </tr>\n",
       "  </tbody>\n",
       "</table>\n",
       "</div>"
      ],
      "text/plain": [
       "   Gender  Married  Dependents  Education  Self_Employed  ApplicantIncome  \\\n",
       "0       1        0         0.0          0              0             5849   \n",
       "1       1        1         1.0          0              0             4583   \n",
       "2       1        1         0.0          0              1             3000   \n",
       "3       1        1         0.0          1              0             2583   \n",
       "4       1        0         0.0          0              0             6000   \n",
       "\n",
       "   CoapplicantIncome  LoanAmount  Loan_Amount_Term  Credit_History  \\\n",
       "0                0.0   142.51153             360.0             1.0   \n",
       "1             1508.0   128.00000             360.0             1.0   \n",
       "2                0.0    66.00000             360.0             1.0   \n",
       "3             2358.0   120.00000             360.0             1.0   \n",
       "4                0.0   141.00000             360.0             1.0   \n",
       "\n",
       "   Property_Area  Loan_Status  \n",
       "0              2            1  \n",
       "1              0            0  \n",
       "2              2            1  \n",
       "3              2            1  \n",
       "4              2            1  "
      ]
     },
     "execution_count": 14,
     "metadata": {},
     "output_type": "execute_result"
    }
   ],
   "source": [
    "cr.head()"
   ]
  },
  {
   "cell_type": "code",
   "execution_count": 15,
   "id": "abda1eda",
   "metadata": {},
   "outputs": [],
   "source": [
    "#sampling"
   ]
  },
  {
   "cell_type": "code",
   "execution_count": 16,
   "id": "6391a8d2",
   "metadata": {},
   "outputs": [],
   "source": [
    "from sklearn.model_selection import train_test_split"
   ]
  },
  {
   "cell_type": "code",
   "execution_count": 17,
   "id": "cb861a98",
   "metadata": {},
   "outputs": [],
   "source": [
    "cr_train, cr_test= train_test_split(cr, test_size=0.2)"
   ]
  },
  {
   "cell_type": "code",
   "execution_count": 18,
   "id": "4008dc56",
   "metadata": {},
   "outputs": [],
   "source": [
    "cr_train_x=cr_train.iloc[:, 0:-1]\n",
    "cr_train_y=cr_train.iloc[:, -1]"
   ]
  },
  {
   "cell_type": "code",
   "execution_count": 19,
   "id": "360e959c",
   "metadata": {},
   "outputs": [],
   "source": [
    "cr_test_x=cr_test.iloc[:, 0:-1]\n",
    "cr_test_y=cr_test.iloc[:, -1]"
   ]
  },
  {
   "cell_type": "code",
   "execution_count": 20,
   "id": "868fa42c",
   "metadata": {},
   "outputs": [
    {
     "data": {
      "text/html": [
       "<div>\n",
       "<style scoped>\n",
       "    .dataframe tbody tr th:only-of-type {\n",
       "        vertical-align: middle;\n",
       "    }\n",
       "\n",
       "    .dataframe tbody tr th {\n",
       "        vertical-align: top;\n",
       "    }\n",
       "\n",
       "    .dataframe thead th {\n",
       "        text-align: right;\n",
       "    }\n",
       "</style>\n",
       "<table border=\"1\" class=\"dataframe\">\n",
       "  <thead>\n",
       "    <tr style=\"text-align: right;\">\n",
       "      <th></th>\n",
       "      <th>Gender</th>\n",
       "      <th>Married</th>\n",
       "      <th>Dependents</th>\n",
       "      <th>Education</th>\n",
       "      <th>Self_Employed</th>\n",
       "      <th>ApplicantIncome</th>\n",
       "      <th>CoapplicantIncome</th>\n",
       "      <th>LoanAmount</th>\n",
       "      <th>Loan_Amount_Term</th>\n",
       "      <th>Credit_History</th>\n",
       "      <th>Property_Area</th>\n",
       "    </tr>\n",
       "  </thead>\n",
       "  <tbody>\n",
       "    <tr>\n",
       "      <th>391</th>\n",
       "      <td>1</td>\n",
       "      <td>1</td>\n",
       "      <td>4.0</td>\n",
       "      <td>0</td>\n",
       "      <td>0</td>\n",
       "      <td>9504</td>\n",
       "      <td>0.0</td>\n",
       "      <td>275.0</td>\n",
       "      <td>360.0</td>\n",
       "      <td>1.0</td>\n",
       "      <td>0</td>\n",
       "    </tr>\n",
       "    <tr>\n",
       "      <th>790</th>\n",
       "      <td>1</td>\n",
       "      <td>1</td>\n",
       "      <td>2.0</td>\n",
       "      <td>1</td>\n",
       "      <td>0</td>\n",
       "      <td>2500</td>\n",
       "      <td>3333.0</td>\n",
       "      <td>131.0</td>\n",
       "      <td>360.0</td>\n",
       "      <td>1.0</td>\n",
       "      <td>2</td>\n",
       "    </tr>\n",
       "    <tr>\n",
       "      <th>637</th>\n",
       "      <td>0</td>\n",
       "      <td>0</td>\n",
       "      <td>0.0</td>\n",
       "      <td>1</td>\n",
       "      <td>0</td>\n",
       "      <td>3765</td>\n",
       "      <td>0.0</td>\n",
       "      <td>125.0</td>\n",
       "      <td>360.0</td>\n",
       "      <td>1.0</td>\n",
       "      <td>2</td>\n",
       "    </tr>\n",
       "    <tr>\n",
       "      <th>137</th>\n",
       "      <td>1</td>\n",
       "      <td>1</td>\n",
       "      <td>2.0</td>\n",
       "      <td>0</td>\n",
       "      <td>1</td>\n",
       "      <td>3316</td>\n",
       "      <td>3500.0</td>\n",
       "      <td>88.0</td>\n",
       "      <td>360.0</td>\n",
       "      <td>1.0</td>\n",
       "      <td>2</td>\n",
       "    </tr>\n",
       "    <tr>\n",
       "      <th>732</th>\n",
       "      <td>0</td>\n",
       "      <td>0</td>\n",
       "      <td>0.0</td>\n",
       "      <td>0</td>\n",
       "      <td>0</td>\n",
       "      <td>1762</td>\n",
       "      <td>2666.0</td>\n",
       "      <td>104.0</td>\n",
       "      <td>360.0</td>\n",
       "      <td>0.0</td>\n",
       "      <td>2</td>\n",
       "    </tr>\n",
       "    <tr>\n",
       "      <th>...</th>\n",
       "      <td>...</td>\n",
       "      <td>...</td>\n",
       "      <td>...</td>\n",
       "      <td>...</td>\n",
       "      <td>...</td>\n",
       "      <td>...</td>\n",
       "      <td>...</td>\n",
       "      <td>...</td>\n",
       "      <td>...</td>\n",
       "      <td>...</td>\n",
       "      <td>...</td>\n",
       "    </tr>\n",
       "    <tr>\n",
       "      <th>592</th>\n",
       "      <td>1</td>\n",
       "      <td>0</td>\n",
       "      <td>4.0</td>\n",
       "      <td>0</td>\n",
       "      <td>1</td>\n",
       "      <td>9357</td>\n",
       "      <td>0.0</td>\n",
       "      <td>292.0</td>\n",
       "      <td>360.0</td>\n",
       "      <td>1.0</td>\n",
       "      <td>1</td>\n",
       "    </tr>\n",
       "    <tr>\n",
       "      <th>800</th>\n",
       "      <td>1</td>\n",
       "      <td>1</td>\n",
       "      <td>2.0</td>\n",
       "      <td>1</td>\n",
       "      <td>0</td>\n",
       "      <td>4521</td>\n",
       "      <td>1184.0</td>\n",
       "      <td>150.0</td>\n",
       "      <td>360.0</td>\n",
       "      <td>1.0</td>\n",
       "      <td>1</td>\n",
       "    </tr>\n",
       "    <tr>\n",
       "      <th>922</th>\n",
       "      <td>1</td>\n",
       "      <td>1</td>\n",
       "      <td>1.0</td>\n",
       "      <td>0</td>\n",
       "      <td>0</td>\n",
       "      <td>6825</td>\n",
       "      <td>0.0</td>\n",
       "      <td>162.0</td>\n",
       "      <td>360.0</td>\n",
       "      <td>1.0</td>\n",
       "      <td>0</td>\n",
       "    </tr>\n",
       "    <tr>\n",
       "      <th>34</th>\n",
       "      <td>1</td>\n",
       "      <td>0</td>\n",
       "      <td>4.0</td>\n",
       "      <td>0</td>\n",
       "      <td>0</td>\n",
       "      <td>12500</td>\n",
       "      <td>3000.0</td>\n",
       "      <td>320.0</td>\n",
       "      <td>360.0</td>\n",
       "      <td>1.0</td>\n",
       "      <td>0</td>\n",
       "    </tr>\n",
       "    <tr>\n",
       "      <th>190</th>\n",
       "      <td>1</td>\n",
       "      <td>0</td>\n",
       "      <td>0.0</td>\n",
       "      <td>1</td>\n",
       "      <td>0</td>\n",
       "      <td>4885</td>\n",
       "      <td>0.0</td>\n",
       "      <td>48.0</td>\n",
       "      <td>360.0</td>\n",
       "      <td>1.0</td>\n",
       "      <td>0</td>\n",
       "    </tr>\n",
       "  </tbody>\n",
       "</table>\n",
       "<p>784 rows × 11 columns</p>\n",
       "</div>"
      ],
      "text/plain": [
       "     Gender  Married  Dependents  Education  Self_Employed  ApplicantIncome  \\\n",
       "391       1        1         4.0          0              0             9504   \n",
       "790       1        1         2.0          1              0             2500   \n",
       "637       0        0         0.0          1              0             3765   \n",
       "137       1        1         2.0          0              1             3316   \n",
       "732       0        0         0.0          0              0             1762   \n",
       "..      ...      ...         ...        ...            ...              ...   \n",
       "592       1        0         4.0          0              1             9357   \n",
       "800       1        1         2.0          1              0             4521   \n",
       "922       1        1         1.0          0              0             6825   \n",
       "34        1        0         4.0          0              0            12500   \n",
       "190       1        0         0.0          1              0             4885   \n",
       "\n",
       "     CoapplicantIncome  LoanAmount  Loan_Amount_Term  Credit_History  \\\n",
       "391                0.0       275.0             360.0             1.0   \n",
       "790             3333.0       131.0             360.0             1.0   \n",
       "637                0.0       125.0             360.0             1.0   \n",
       "137             3500.0        88.0             360.0             1.0   \n",
       "732             2666.0       104.0             360.0             0.0   \n",
       "..                 ...         ...               ...             ...   \n",
       "592                0.0       292.0             360.0             1.0   \n",
       "800             1184.0       150.0             360.0             1.0   \n",
       "922                0.0       162.0             360.0             1.0   \n",
       "34              3000.0       320.0             360.0             1.0   \n",
       "190                0.0        48.0             360.0             1.0   \n",
       "\n",
       "     Property_Area  \n",
       "391              0  \n",
       "790              2  \n",
       "637              2  \n",
       "137              2  \n",
       "732              2  \n",
       "..             ...  \n",
       "592              1  \n",
       "800              1  \n",
       "922              0  \n",
       "34               0  \n",
       "190              0  \n",
       "\n",
       "[784 rows x 11 columns]"
      ]
     },
     "execution_count": 20,
     "metadata": {},
     "output_type": "execute_result"
    }
   ],
   "source": [
    "cr_train_x"
   ]
  },
  {
   "cell_type": "code",
   "execution_count": 21,
   "id": "8bc367b7",
   "metadata": {},
   "outputs": [
    {
     "data": {
      "text/plain": [
       "391    1\n",
       "790    1\n",
       "637    1\n",
       "137    1\n",
       "732    0\n",
       "      ..\n",
       "592    1\n",
       "800    1\n",
       "922    1\n",
       "34     0\n",
       "190    1\n",
       "Name: Loan_Status, Length: 784, dtype: int32"
      ]
     },
     "execution_count": 21,
     "metadata": {},
     "output_type": "execute_result"
    }
   ],
   "source": [
    "cr_train_y"
   ]
  },
  {
   "cell_type": "code",
   "execution_count": 22,
   "id": "f188a504",
   "metadata": {},
   "outputs": [],
   "source": [
    "#model building"
   ]
  },
  {
   "cell_type": "code",
   "execution_count": 23,
   "id": "8e219ab5",
   "metadata": {},
   "outputs": [],
   "source": [
    "from sklearn.linear_model import LogisticRegression"
   ]
  },
  {
   "cell_type": "code",
   "execution_count": 24,
   "id": "4a357bfc",
   "metadata": {},
   "outputs": [],
   "source": [
    "logi_cr=LogisticRegression()"
   ]
  },
  {
   "cell_type": "code",
   "execution_count": 25,
   "id": "d24719f8",
   "metadata": {},
   "outputs": [
    {
     "name": "stderr",
     "output_type": "stream",
     "text": [
      "C:\\Users\\Janhavi Gadge\\anaconda3\\Lib\\site-packages\\sklearn\\linear_model\\_logistic.py:460: ConvergenceWarning: lbfgs failed to converge (status=1):\n",
      "STOP: TOTAL NO. of ITERATIONS REACHED LIMIT.\n",
      "\n",
      "Increase the number of iterations (max_iter) or scale the data as shown in:\n",
      "    https://scikit-learn.org/stable/modules/preprocessing.html\n",
      "Please also refer to the documentation for alternative solver options:\n",
      "    https://scikit-learn.org/stable/modules/linear_model.html#logistic-regression\n",
      "  n_iter_i = _check_optimize_result(\n"
     ]
    },
    {
     "data": {
      "text/html": [
       "<style>#sk-container-id-1 {color: black;}#sk-container-id-1 pre{padding: 0;}#sk-container-id-1 div.sk-toggleable {background-color: white;}#sk-container-id-1 label.sk-toggleable__label {cursor: pointer;display: block;width: 100%;margin-bottom: 0;padding: 0.3em;box-sizing: border-box;text-align: center;}#sk-container-id-1 label.sk-toggleable__label-arrow:before {content: \"▸\";float: left;margin-right: 0.25em;color: #696969;}#sk-container-id-1 label.sk-toggleable__label-arrow:hover:before {color: black;}#sk-container-id-1 div.sk-estimator:hover label.sk-toggleable__label-arrow:before {color: black;}#sk-container-id-1 div.sk-toggleable__content {max-height: 0;max-width: 0;overflow: hidden;text-align: left;background-color: #f0f8ff;}#sk-container-id-1 div.sk-toggleable__content pre {margin: 0.2em;color: black;border-radius: 0.25em;background-color: #f0f8ff;}#sk-container-id-1 input.sk-toggleable__control:checked~div.sk-toggleable__content {max-height: 200px;max-width: 100%;overflow: auto;}#sk-container-id-1 input.sk-toggleable__control:checked~label.sk-toggleable__label-arrow:before {content: \"▾\";}#sk-container-id-1 div.sk-estimator input.sk-toggleable__control:checked~label.sk-toggleable__label {background-color: #d4ebff;}#sk-container-id-1 div.sk-label input.sk-toggleable__control:checked~label.sk-toggleable__label {background-color: #d4ebff;}#sk-container-id-1 input.sk-hidden--visually {border: 0;clip: rect(1px 1px 1px 1px);clip: rect(1px, 1px, 1px, 1px);height: 1px;margin: -1px;overflow: hidden;padding: 0;position: absolute;width: 1px;}#sk-container-id-1 div.sk-estimator {font-family: monospace;background-color: #f0f8ff;border: 1px dotted black;border-radius: 0.25em;box-sizing: border-box;margin-bottom: 0.5em;}#sk-container-id-1 div.sk-estimator:hover {background-color: #d4ebff;}#sk-container-id-1 div.sk-parallel-item::after {content: \"\";width: 100%;border-bottom: 1px solid gray;flex-grow: 1;}#sk-container-id-1 div.sk-label:hover label.sk-toggleable__label {background-color: #d4ebff;}#sk-container-id-1 div.sk-serial::before {content: \"\";position: absolute;border-left: 1px solid gray;box-sizing: border-box;top: 0;bottom: 0;left: 50%;z-index: 0;}#sk-container-id-1 div.sk-serial {display: flex;flex-direction: column;align-items: center;background-color: white;padding-right: 0.2em;padding-left: 0.2em;position: relative;}#sk-container-id-1 div.sk-item {position: relative;z-index: 1;}#sk-container-id-1 div.sk-parallel {display: flex;align-items: stretch;justify-content: center;background-color: white;position: relative;}#sk-container-id-1 div.sk-item::before, #sk-container-id-1 div.sk-parallel-item::before {content: \"\";position: absolute;border-left: 1px solid gray;box-sizing: border-box;top: 0;bottom: 0;left: 50%;z-index: -1;}#sk-container-id-1 div.sk-parallel-item {display: flex;flex-direction: column;z-index: 1;position: relative;background-color: white;}#sk-container-id-1 div.sk-parallel-item:first-child::after {align-self: flex-end;width: 50%;}#sk-container-id-1 div.sk-parallel-item:last-child::after {align-self: flex-start;width: 50%;}#sk-container-id-1 div.sk-parallel-item:only-child::after {width: 0;}#sk-container-id-1 div.sk-dashed-wrapped {border: 1px dashed gray;margin: 0 0.4em 0.5em 0.4em;box-sizing: border-box;padding-bottom: 0.4em;background-color: white;}#sk-container-id-1 div.sk-label label {font-family: monospace;font-weight: bold;display: inline-block;line-height: 1.2em;}#sk-container-id-1 div.sk-label-container {text-align: center;}#sk-container-id-1 div.sk-container {/* jupyter's `normalize.less` sets `[hidden] { display: none; }` but bootstrap.min.css set `[hidden] { display: none !important; }` so we also need the `!important` here to be able to override the default hidden behavior on the sphinx rendered scikit-learn.org. See: https://github.com/scikit-learn/scikit-learn/issues/21755 */display: inline-block !important;position: relative;}#sk-container-id-1 div.sk-text-repr-fallback {display: none;}</style><div id=\"sk-container-id-1\" class=\"sk-top-container\"><div class=\"sk-text-repr-fallback\"><pre>LogisticRegression()</pre><b>In a Jupyter environment, please rerun this cell to show the HTML representation or trust the notebook. <br />On GitHub, the HTML representation is unable to render, please try loading this page with nbviewer.org.</b></div><div class=\"sk-container\" hidden><div class=\"sk-item\"><div class=\"sk-estimator sk-toggleable\"><input class=\"sk-toggleable__control sk-hidden--visually\" id=\"sk-estimator-id-1\" type=\"checkbox\" checked><label for=\"sk-estimator-id-1\" class=\"sk-toggleable__label sk-toggleable__label-arrow\">LogisticRegression</label><div class=\"sk-toggleable__content\"><pre>LogisticRegression()</pre></div></div></div></div></div>"
      ],
      "text/plain": [
       "LogisticRegression()"
      ]
     },
     "execution_count": 25,
     "metadata": {},
     "output_type": "execute_result"
    }
   ],
   "source": [
    "logi_cr.fit(cr_train_x, cr_train_y)"
   ]
  },
  {
   "cell_type": "code",
   "execution_count": 26,
   "id": "4518c934",
   "metadata": {},
   "outputs": [],
   "source": [
    "#prediction"
   ]
  },
  {
   "cell_type": "code",
   "execution_count": 27,
   "id": "ffe73af6",
   "metadata": {},
   "outputs": [],
   "source": [
    "pred=logi_cr.predict(cr_test_x)"
   ]
  },
  {
   "cell_type": "code",
   "execution_count": 28,
   "id": "d427c648",
   "metadata": {},
   "outputs": [
    {
     "data": {
      "text/plain": [
       "array([1, 1, 0, 1, 1, 1, 1, 0, 1, 0, 1, 1, 0, 1, 0, 1, 1, 0, 1, 0, 1, 1,\n",
       "       1, 0, 0, 1, 1, 1, 1, 1, 1, 1, 0, 1, 1, 0, 1, 1, 1, 1, 0, 1, 1, 0,\n",
       "       0, 1, 1, 1, 0, 1, 1, 1, 1, 1, 1, 1, 1, 1, 0, 1, 1, 1, 1, 0, 1, 1,\n",
       "       1, 1, 1, 1, 1, 1, 1, 1, 1, 0, 1, 1, 1, 1, 1, 1, 0, 1, 0, 1, 1, 1,\n",
       "       1, 1, 0, 1, 1, 1, 1, 1, 1, 1, 1, 1, 1, 1, 1, 1, 0, 1, 1, 1, 1, 1,\n",
       "       1, 1, 1, 0, 1, 1, 1, 1, 1, 0, 1, 0, 0, 1, 1, 0, 1, 0, 1, 1, 0, 1,\n",
       "       1, 0, 0, 1, 0, 1, 1, 1, 1, 1, 0, 1, 1, 1, 1, 1, 1, 1, 1, 1, 1, 0,\n",
       "       1, 0, 1, 1, 1, 1, 1, 1, 0, 0, 1, 1, 1, 1, 1, 1, 0, 1, 1, 1, 1, 1,\n",
       "       0, 1, 1, 1, 1, 1, 1, 1, 1, 1, 1, 1, 1, 1, 0, 0, 1, 0, 0, 1, 0])"
      ]
     },
     "execution_count": 28,
     "metadata": {},
     "output_type": "execute_result"
    }
   ],
   "source": [
    "pred"
   ]
  },
  {
   "cell_type": "code",
   "execution_count": 29,
   "id": "4d3d3f46",
   "metadata": {},
   "outputs": [],
   "source": [
    "#evaluation"
   ]
  },
  {
   "cell_type": "code",
   "execution_count": 30,
   "id": "a7a7e374",
   "metadata": {},
   "outputs": [],
   "source": [
    "from sklearn.metrics import confusion_matrix"
   ]
  },
  {
   "cell_type": "code",
   "execution_count": 31,
   "id": "d2f212e6",
   "metadata": {},
   "outputs": [
    {
     "data": {
      "text/plain": [
       "array([[ 33,  26],\n",
       "       [ 11, 127]], dtype=int64)"
      ]
     },
     "execution_count": 31,
     "metadata": {},
     "output_type": "execute_result"
    }
   ],
   "source": [
    "cr_tab=  confusion_matrix(cr_test_y, pred)\n",
    "cr_tab"
   ]
  },
  {
   "cell_type": "code",
   "execution_count": 32,
   "id": "b995f5a2",
   "metadata": {},
   "outputs": [
    {
     "data": {
      "text/plain": [
       "81.21827411167513"
      ]
     },
     "execution_count": 32,
     "metadata": {},
     "output_type": "execute_result"
    }
   ],
   "source": [
    "#accuracy\n",
    "cr_tab.diagonal().sum()*100/ cr_tab.sum()"
   ]
  },
  {
   "cell_type": "code",
   "execution_count": 33,
   "id": "40cc9c93",
   "metadata": {},
   "outputs": [],
   "source": [
    "from sklearn.metrics import accuracy_score"
   ]
  },
  {
   "cell_type": "code",
   "execution_count": 34,
   "id": "b8e02999",
   "metadata": {},
   "outputs": [
    {
     "data": {
      "text/plain": [
       "81.21827411167513"
      ]
     },
     "execution_count": 34,
     "metadata": {},
     "output_type": "execute_result"
    }
   ],
   "source": [
    "accuracy_score(cr_test_y, pred)*100"
   ]
  },
  {
   "cell_type": "code",
   "execution_count": 35,
   "id": "35a1ed5f",
   "metadata": {},
   "outputs": [],
   "source": [
    "#tpr (recall)\n",
    "from sklearn.metrics import recall_score\n"
   ]
  },
  {
   "cell_type": "code",
   "execution_count": 36,
   "id": "e33c545c",
   "metadata": {},
   "outputs": [
    {
     "data": {
      "text/plain": [
       "92.02898550724638"
      ]
     },
     "execution_count": 36,
     "metadata": {},
     "output_type": "execute_result"
    }
   ],
   "source": [
    "recall_score(cr_test_y, pred)*100"
   ]
  },
  {
   "cell_type": "code",
   "execution_count": 37,
   "id": "af3260a1",
   "metadata": {},
   "outputs": [],
   "source": [
    "#precision\n",
    "from sklearn.metrics import precision_score"
   ]
  },
  {
   "cell_type": "code",
   "execution_count": 38,
   "id": "b6d5969e",
   "metadata": {},
   "outputs": [
    {
     "data": {
      "text/plain": [
       "83.00653594771242"
      ]
     },
     "execution_count": 38,
     "metadata": {},
     "output_type": "execute_result"
    }
   ],
   "source": [
    "precision_score(cr_test_y, pred)*100"
   ]
  },
  {
   "cell_type": "code",
   "execution_count": 39,
   "id": "2cc9002e",
   "metadata": {},
   "outputs": [],
   "source": [
    "#F1 RATIO= 2*recall*precision/recall+ precision\n",
    "from sklearn.metrics import f1_score"
   ]
  },
  {
   "cell_type": "code",
   "execution_count": 40,
   "id": "83693db7",
   "metadata": {},
   "outputs": [
    {
     "data": {
      "text/plain": [
       "87.2852233676976"
      ]
     },
     "execution_count": 40,
     "metadata": {},
     "output_type": "execute_result"
    }
   ],
   "source": [
    "f1_score(cr_test_y, pred)*100"
   ]
  },
  {
   "cell_type": "code",
   "execution_count": 41,
   "id": "5fc1b058",
   "metadata": {},
   "outputs": [
    {
     "data": {
      "text/plain": [
       "array([1, 1, 0, 1, 1, 1, 1, 0, 1, 0, 1, 1, 0, 1, 0, 1, 1, 0, 1, 0, 1, 1,\n",
       "       1, 0, 0, 1, 1, 1, 1, 1, 1, 1, 0, 1, 1, 0, 1, 1, 1, 1, 0, 1, 1, 0,\n",
       "       0, 1, 1, 1, 0, 1, 1, 1, 1, 1, 1, 1, 1, 1, 0, 1, 1, 1, 1, 0, 1, 1,\n",
       "       1, 1, 1, 1, 1, 1, 1, 1, 1, 0, 1, 1, 1, 1, 1, 1, 0, 1, 0, 1, 1, 1,\n",
       "       1, 1, 0, 1, 1, 1, 1, 1, 1, 1, 1, 1, 1, 1, 1, 1, 0, 1, 1, 1, 1, 1,\n",
       "       1, 1, 1, 0, 1, 1, 1, 1, 1, 0, 1, 0, 0, 1, 1, 0, 1, 0, 1, 1, 0, 1,\n",
       "       1, 0, 0, 1, 0, 1, 1, 1, 1, 1, 0, 1, 1, 1, 1, 1, 1, 1, 1, 1, 1, 0,\n",
       "       1, 0, 1, 1, 1, 1, 1, 1, 0, 0, 1, 1, 1, 1, 1, 1, 0, 1, 1, 1, 1, 1,\n",
       "       0, 1, 1, 1, 1, 1, 1, 1, 1, 1, 1, 1, 1, 1, 0, 0, 1, 0, 0, 1, 0])"
      ]
     },
     "execution_count": 41,
     "metadata": {},
     "output_type": "execute_result"
    }
   ],
   "source": [
    "pred=logi_cr.predict(cr_test_x)\n",
    "pred"
   ]
  },
  {
   "cell_type": "code",
   "execution_count": 42,
   "id": "7598b761",
   "metadata": {},
   "outputs": [],
   "source": [
    "pred_proba= logi_cr.predict_proba(cr_test_x)"
   ]
  },
  {
   "cell_type": "code",
   "execution_count": 43,
   "id": "264483ee",
   "metadata": {},
   "outputs": [
    {
     "data": {
      "text/plain": [
       "array([[0.12277565, 0.87722435],\n",
       "       [0.05283036, 0.94716964],\n",
       "       [0.7087211 , 0.2912789 ],\n",
       "       [0.12375819, 0.87624181],\n",
       "       [0.06840614, 0.93159386],\n",
       "       [0.27295011, 0.72704989],\n",
       "       [0.1591558 , 0.8408442 ],\n",
       "       [0.54838297, 0.45161703],\n",
       "       [0.12989665, 0.87010335],\n",
       "       [0.5637078 , 0.4362922 ],\n",
       "       [0.103827  , 0.896173  ],\n",
       "       [0.31883976, 0.68116024],\n",
       "       [0.86423849, 0.13576151],\n",
       "       [0.1822235 , 0.8177765 ],\n",
       "       [0.61596295, 0.38403705],\n",
       "       [0.2282961 , 0.7717039 ],\n",
       "       [0.06651007, 0.93348993],\n",
       "       [0.69063437, 0.30936563],\n",
       "       [0.06970696, 0.93029304],\n",
       "       [0.63326631, 0.36673369],\n",
       "       [0.26112643, 0.73887357],\n",
       "       [0.05722806, 0.94277194],\n",
       "       [0.10122398, 0.89877602],\n",
       "       [0.60112167, 0.39887833],\n",
       "       [0.80434705, 0.19565295],\n",
       "       [0.13395919, 0.86604081],\n",
       "       [0.20575582, 0.79424418],\n",
       "       [0.10905203, 0.89094797],\n",
       "       [0.07080482, 0.92919518],\n",
       "       [0.29810518, 0.70189482],\n",
       "       [0.13095231, 0.86904769],\n",
       "       [0.13402114, 0.86597886],\n",
       "       [0.66262038, 0.33737962],\n",
       "       [0.27465506, 0.72534494],\n",
       "       [0.10765708, 0.89234292],\n",
       "       [0.6906154 , 0.3093846 ],\n",
       "       [0.06624669, 0.93375331],\n",
       "       [0.29668169, 0.70331831],\n",
       "       [0.1169667 , 0.8830333 ],\n",
       "       [0.24096221, 0.75903779],\n",
       "       [0.5823128 , 0.4176872 ],\n",
       "       [0.21177212, 0.78822788],\n",
       "       [0.16699729, 0.83300271],\n",
       "       [0.62876938, 0.37123062],\n",
       "       [0.66732695, 0.33267305],\n",
       "       [0.21814638, 0.78185362],\n",
       "       [0.1015217 , 0.8984783 ],\n",
       "       [0.19185259, 0.80814741],\n",
       "       [0.70288699, 0.29711301],\n",
       "       [0.16209733, 0.83790267],\n",
       "       [0.21892908, 0.78107092],\n",
       "       [0.20906694, 0.79093306],\n",
       "       [0.35002156, 0.64997844],\n",
       "       [0.11482013, 0.88517987],\n",
       "       [0.24530603, 0.75469397],\n",
       "       [0.11491761, 0.88508239],\n",
       "       [0.21194846, 0.78805154],\n",
       "       [0.41080701, 0.58919299],\n",
       "       [0.84048392, 0.15951608],\n",
       "       [0.08250465, 0.91749535],\n",
       "       [0.2773603 , 0.7226397 ],\n",
       "       [0.07346047, 0.92653953],\n",
       "       [0.43763104, 0.56236896],\n",
       "       [0.53500901, 0.46499099],\n",
       "       [0.1891993 , 0.8108007 ],\n",
       "       [0.24577099, 0.75422901],\n",
       "       [0.04262021, 0.95737979],\n",
       "       [0.49141945, 0.50858055],\n",
       "       [0.17021993, 0.82978007],\n",
       "       [0.45104566, 0.54895434],\n",
       "       [0.0710429 , 0.9289571 ],\n",
       "       [0.09368624, 0.90631376],\n",
       "       [0.45307295, 0.54692705],\n",
       "       [0.23556663, 0.76443337],\n",
       "       [0.14453927, 0.85546073],\n",
       "       [0.65544226, 0.34455774],\n",
       "       [0.26744989, 0.73255011],\n",
       "       [0.11765579, 0.88234421],\n",
       "       [0.12141381, 0.87858619],\n",
       "       [0.12887199, 0.87112801],\n",
       "       [0.23186782, 0.76813218],\n",
       "       [0.17219391, 0.82780609],\n",
       "       [0.73946061, 0.26053939],\n",
       "       [0.02711567, 0.97288433],\n",
       "       [0.55484063, 0.44515937],\n",
       "       [0.12139851, 0.87860149],\n",
       "       [0.15396398, 0.84603602],\n",
       "       [0.10285523, 0.89714477],\n",
       "       [0.0931425 , 0.9068575 ],\n",
       "       [0.17467359, 0.82532641],\n",
       "       [0.72815275, 0.27184725],\n",
       "       [0.04995717, 0.95004283],\n",
       "       [0.11266907, 0.88733093],\n",
       "       [0.14798611, 0.85201389],\n",
       "       [0.0381159 , 0.9618841 ],\n",
       "       [0.2874508 , 0.7125492 ],\n",
       "       [0.16022426, 0.83977574],\n",
       "       [0.12194058, 0.87805942],\n",
       "       [0.18975755, 0.81024245],\n",
       "       [0.08645242, 0.91354758],\n",
       "       [0.1221677 , 0.8778323 ],\n",
       "       [0.30739237, 0.69260763],\n",
       "       [0.17265272, 0.82734728],\n",
       "       [0.12956832, 0.87043168],\n",
       "       [0.66510236, 0.33489764],\n",
       "       [0.08351367, 0.91648633],\n",
       "       [0.29392206, 0.70607794],\n",
       "       [0.20390215, 0.79609785],\n",
       "       [0.09766675, 0.90233325],\n",
       "       [0.0801916 , 0.9198084 ],\n",
       "       [0.3404874 , 0.6595126 ],\n",
       "       [0.12825688, 0.87174312],\n",
       "       [0.16978876, 0.83021124],\n",
       "       [0.60859521, 0.39140479],\n",
       "       [0.12868036, 0.87131964],\n",
       "       [0.44392881, 0.55607119],\n",
       "       [0.14549486, 0.85450514],\n",
       "       [0.07625195, 0.92374805],\n",
       "       [0.10809924, 0.89190076],\n",
       "       [0.70806425, 0.29193575],\n",
       "       [0.07499566, 0.92500434],\n",
       "       [0.63171894, 0.36828106],\n",
       "       [0.56095906, 0.43904094],\n",
       "       [0.08409099, 0.91590901],\n",
       "       [0.2035679 , 0.7964321 ],\n",
       "       [0.7947899 , 0.2052101 ],\n",
       "       [0.19927633, 0.80072367],\n",
       "       [0.69380324, 0.30619676],\n",
       "       [0.26120359, 0.73879641],\n",
       "       [0.23749842, 0.76250158],\n",
       "       [0.61717726, 0.38282274],\n",
       "       [0.07449479, 0.92550521],\n",
       "       [0.19264498, 0.80735502],\n",
       "       [0.6409736 , 0.3590264 ],\n",
       "       [0.69936566, 0.30063434],\n",
       "       [0.08409357, 0.91590643],\n",
       "       [0.76315284, 0.23684716],\n",
       "       [0.08050408, 0.91949592],\n",
       "       [0.07345488, 0.92654512],\n",
       "       [0.08979326, 0.91020674],\n",
       "       [0.27270032, 0.72729968],\n",
       "       [0.48542736, 0.51457264],\n",
       "       [0.9131277 , 0.0868723 ],\n",
       "       [0.08782524, 0.91217476],\n",
       "       [0.39610496, 0.60389504],\n",
       "       [0.09367195, 0.90632805],\n",
       "       [0.08182152, 0.91817848],\n",
       "       [0.08435247, 0.91564753],\n",
       "       [0.1304748 , 0.8695252 ],\n",
       "       [0.19517755, 0.80482245],\n",
       "       [0.09862306, 0.90137694],\n",
       "       [0.31055062, 0.68944938],\n",
       "       [0.08649509, 0.91350491],\n",
       "       [0.5613933 , 0.4386067 ],\n",
       "       [0.11922336, 0.88077664],\n",
       "       [0.54129759, 0.45870241],\n",
       "       [0.10160948, 0.89839052],\n",
       "       [0.06124373, 0.93875627],\n",
       "       [0.28367657, 0.71632343],\n",
       "       [0.17244492, 0.82755508],\n",
       "       [0.44380123, 0.55619877],\n",
       "       [0.0889444 , 0.9110556 ],\n",
       "       [0.79138419, 0.20861581],\n",
       "       [0.77701832, 0.22298168],\n",
       "       [0.15264906, 0.84735094],\n",
       "       [0.0763986 , 0.9236014 ],\n",
       "       [0.08814664, 0.91185336],\n",
       "       [0.05736937, 0.94263063],\n",
       "       [0.20909191, 0.79090809],\n",
       "       [0.12953045, 0.87046955],\n",
       "       [0.66398802, 0.33601198],\n",
       "       [0.08607302, 0.91392698],\n",
       "       [0.18844435, 0.81155565],\n",
       "       [0.28879499, 0.71120501],\n",
       "       [0.20012567, 0.79987433],\n",
       "       [0.22613029, 0.77386971],\n",
       "       [0.71511631, 0.28488369],\n",
       "       [0.22904244, 0.77095756],\n",
       "       [0.1518434 , 0.8481566 ],\n",
       "       [0.19909535, 0.80090465],\n",
       "       [0.30853068, 0.69146932],\n",
       "       [0.08872072, 0.91127928],\n",
       "       [0.11183812, 0.88816188],\n",
       "       [0.14166475, 0.85833525],\n",
       "       [0.10438413, 0.89561587],\n",
       "       [0.11948695, 0.88051305],\n",
       "       [0.09621869, 0.90378131],\n",
       "       [0.11741314, 0.88258686],\n",
       "       [0.08868597, 0.91131403],\n",
       "       [0.10340435, 0.89659565],\n",
       "       [0.65920373, 0.34079627],\n",
       "       [0.5751561 , 0.4248439 ],\n",
       "       [0.18747993, 0.81252007],\n",
       "       [0.61916697, 0.38083303],\n",
       "       [0.62088032, 0.37911968],\n",
       "       [0.08840014, 0.91159986],\n",
       "       [0.83261687, 0.16738313]])"
      ]
     },
     "execution_count": 43,
     "metadata": {},
     "output_type": "execute_result"
    }
   ],
   "source": [
    "pred_proba"
   ]
  },
  {
   "cell_type": "code",
   "execution_count": 44,
   "id": "5d22e93e",
   "metadata": {},
   "outputs": [],
   "source": [
    "from sklearn.metrics import roc_auc_score\n",
    "from sklearn.metrics import roc_curve"
   ]
  },
  {
   "cell_type": "code",
   "execution_count": 45,
   "id": "48a89822",
   "metadata": {},
   "outputs": [
    {
     "data": {
      "text/plain": [
       "73.98059444853844"
      ]
     },
     "execution_count": 45,
     "metadata": {},
     "output_type": "execute_result"
    }
   ],
   "source": [
    "roc_auc_score(cr_test_y, pred)*100"
   ]
  },
  {
   "cell_type": "code",
   "execution_count": 46,
   "id": "11f0fe83",
   "metadata": {},
   "outputs": [
    {
     "data": {
      "text/plain": [
       "array([0.87722435, 0.94716964, 0.2912789 , 0.87624181, 0.93159386,\n",
       "       0.72704989, 0.8408442 , 0.45161703, 0.87010335, 0.4362922 ,\n",
       "       0.896173  , 0.68116024, 0.13576151, 0.8177765 , 0.38403705,\n",
       "       0.7717039 , 0.93348993, 0.30936563, 0.93029304, 0.36673369,\n",
       "       0.73887357, 0.94277194, 0.89877602, 0.39887833, 0.19565295,\n",
       "       0.86604081, 0.79424418, 0.89094797, 0.92919518, 0.70189482,\n",
       "       0.86904769, 0.86597886, 0.33737962, 0.72534494, 0.89234292,\n",
       "       0.3093846 , 0.93375331, 0.70331831, 0.8830333 , 0.75903779,\n",
       "       0.4176872 , 0.78822788, 0.83300271, 0.37123062, 0.33267305,\n",
       "       0.78185362, 0.8984783 , 0.80814741, 0.29711301, 0.83790267,\n",
       "       0.78107092, 0.79093306, 0.64997844, 0.88517987, 0.75469397,\n",
       "       0.88508239, 0.78805154, 0.58919299, 0.15951608, 0.91749535,\n",
       "       0.7226397 , 0.92653953, 0.56236896, 0.46499099, 0.8108007 ,\n",
       "       0.75422901, 0.95737979, 0.50858055, 0.82978007, 0.54895434,\n",
       "       0.9289571 , 0.90631376, 0.54692705, 0.76443337, 0.85546073,\n",
       "       0.34455774, 0.73255011, 0.88234421, 0.87858619, 0.87112801,\n",
       "       0.76813218, 0.82780609, 0.26053939, 0.97288433, 0.44515937,\n",
       "       0.87860149, 0.84603602, 0.89714477, 0.9068575 , 0.82532641,\n",
       "       0.27184725, 0.95004283, 0.88733093, 0.85201389, 0.9618841 ,\n",
       "       0.7125492 , 0.83977574, 0.87805942, 0.81024245, 0.91354758,\n",
       "       0.8778323 , 0.69260763, 0.82734728, 0.87043168, 0.33489764,\n",
       "       0.91648633, 0.70607794, 0.79609785, 0.90233325, 0.9198084 ,\n",
       "       0.6595126 , 0.87174312, 0.83021124, 0.39140479, 0.87131964,\n",
       "       0.55607119, 0.85450514, 0.92374805, 0.89190076, 0.29193575,\n",
       "       0.92500434, 0.36828106, 0.43904094, 0.91590901, 0.7964321 ,\n",
       "       0.2052101 , 0.80072367, 0.30619676, 0.73879641, 0.76250158,\n",
       "       0.38282274, 0.92550521, 0.80735502, 0.3590264 , 0.30063434,\n",
       "       0.91590643, 0.23684716, 0.91949592, 0.92654512, 0.91020674,\n",
       "       0.72729968, 0.51457264, 0.0868723 , 0.91217476, 0.60389504,\n",
       "       0.90632805, 0.91817848, 0.91564753, 0.8695252 , 0.80482245,\n",
       "       0.90137694, 0.68944938, 0.91350491, 0.4386067 , 0.88077664,\n",
       "       0.45870241, 0.89839052, 0.93875627, 0.71632343, 0.82755508,\n",
       "       0.55619877, 0.9110556 , 0.20861581, 0.22298168, 0.84735094,\n",
       "       0.9236014 , 0.91185336, 0.94263063, 0.79090809, 0.87046955,\n",
       "       0.33601198, 0.91392698, 0.81155565, 0.71120501, 0.79987433,\n",
       "       0.77386971, 0.28488369, 0.77095756, 0.8481566 , 0.80090465,\n",
       "       0.69146932, 0.91127928, 0.88816188, 0.85833525, 0.89561587,\n",
       "       0.88051305, 0.90378131, 0.88258686, 0.91131403, 0.89659565,\n",
       "       0.34079627, 0.4248439 , 0.81252007, 0.38083303, 0.37911968,\n",
       "       0.91159986, 0.16738313])"
      ]
     },
     "execution_count": 46,
     "metadata": {},
     "output_type": "execute_result"
    }
   ],
   "source": [
    "pred_proba[:, 1]"
   ]
  },
  {
   "cell_type": "code",
   "execution_count": 47,
   "id": "a7a35422",
   "metadata": {},
   "outputs": [],
   "source": [
    "#plot roc curve\n",
    "fpr, tpr, ther= roc_curve(cr_test_y, pred_proba[:, 1])"
   ]
  },
  {
   "cell_type": "code",
   "execution_count": 48,
   "id": "929fe52a",
   "metadata": {},
   "outputs": [],
   "source": [
    "import matplotlib.pyplot as plt"
   ]
  },
  {
   "cell_type": "code",
   "execution_count": 49,
   "id": "19cf2a5c",
   "metadata": {},
   "outputs": [
    {
     "data": {
      "text/plain": [
       "[<matplotlib.lines.Line2D at 0x2793e6be6d0>]"
      ]
     },
     "execution_count": 49,
     "metadata": {},
     "output_type": "execute_result"
    },
    {
     "data": {
      "image/png": "[encoded data removed]",
      "text/plain": [
       "<Figure size 640x480 with 1 Axes>"
      ]
     },
     "metadata": {},
     "output_type": "display_data"
    }
   ],
   "source": [
    "plt.plot(fpr, tpr)"
   ]
  },
  {
   "cell_type": "code",
   "execution_count": 51,
   "id": "2a1ad4d9",
   "metadata": {},
   "outputs": [
    {
     "data": {
      "text/plain": [
       "Text(0.5, 0.5, 'Auroc is 73.98')"
      ]
     },
     "execution_count": 51,
     "metadata": {},
     "output_type": "execute_result"
    },
    {
     "data": {
      "image/png": "[encoded data removed]",
      "text/plain": [
       "<Figure size 640x480 with 1 Axes>"
      ]
     },
     "metadata": {},
     "output_type": "display_data"
    }
   ],
   "source": [
    "plt.plot(fpr, tpr, color='r')\n",
    "plt.xlabel('Fpr')\n",
    "plt.ylabel('Tpr')\n",
    "plt.title('Auroc on credit risk data')\n",
    "plt.grid()\n",
    "plt.text(x=.5, y=.5, s='Auroc is 73.98')"
   ]
  },
  {
   "cell_type": "code",
   "execution_count": null,
   "id": "3af474bb",
   "metadata": {},
   "outputs": [],
   "source": []
  }
 ],
 "metadata": {
  "kernelspec": {
   "display_name": "Python 3 (ipykernel)",
   "language": "python",
   "name": "python3"
  },
  "language_info": {
   "codemirror_mode": {
    "name": "ipython",
    "version": 3
   },
   "file_extension": ".py",
   "mimetype": "text/x-python",
   "name": "python",
   "nbconvert_exporter": "python",
   "pygments_lexer": "ipython3",
   "version": "3.11.5"
  }
 },
 "nbformat": 4,
 "nbformat_minor": 5
}
